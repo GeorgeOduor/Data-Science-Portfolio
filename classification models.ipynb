{
 "cells": [
  {
   "cell_type": "markdown",
   "metadata": {},
   "source": [
    "___\n",
    "\n",
    "# <center>COMMON CLASSIFICATION EVALUATION METRICS</center>\n",
    "___\n",
    "\n",
    "How accurate is a clasification model?Is the model reliable?\n",
    "\n",
    "These two questions are easily  answered by evaluating how well a model performs when subjected to unseen observations.This post ilustrates some of the best the ways models models can be evaluated.\n",
    "\n",
    "What you will learn from this post:\n",
    "\n",
    "1. Jaccard index.\n",
    "1. Confussion Matrix\n",
    "1. F-1 Score\n",
    "1. Log loss\n",
    "\n",
    "\n",
    "\n",
    "First I will fit a simple model and use it to illustrate these methods are applied in model performance evaluation."
   ]
  },
  {
   "cell_type": "code",
   "execution_count": 1,
   "metadata": {},
   "outputs": [],
   "source": [
    "# quick model fit\n",
    "import numpy as np\n",
    "import warnings\n",
    "import pandas\n",
    "warnings.filterwarnings(\"ignore\")#not recomended but i have included this for my own convenience.\n",
    "from sklearn.datasets import load_breast_cancer\n",
    "data = load_breast_cancer()\n",
    "X = pandas.DataFrame(data = data.data,columns=data.feature_names)\n",
    "y = data.target\n",
    "#train test split\n",
    "from sklearn import model_selection\n",
    "np.random.seed(2) #to enable you replicate the same thing i am doing here.\n",
    "X_train, X_test, y_train, y_test = model_selection.train_test_split(X,y,test_size=0.30)\n",
    "# I will use logistic reg\n",
    "from sklearn.linear_model import LogisticRegression\n",
    "reg = LogisticRegression()\n",
    "reg.fit(X_train,y_train)\n",
    "preds = reg.predict(X_test)\n",
    "predsprob = reg.predict_proba(X_test)"
   ]
  },
  {
   "attachments": {
    "image.png": {
     "image/png": "[encoded data removed]"
    }
   },
   "cell_type": "markdown",
   "metadata": {},
   "source": [
    "## Jaccard Index.\n",
    "\n",
    "Given predicted values as $\\hat y$ and actual values as $y$,the jaccard index can be defied as :\n",
    "\n",
    "![image.png](attachment:image.png)\n",
    "\n",
    "$$= \\frac{|y\\cap \\hat y|}{|y|+|\\hat y|-|y\\cap \\hat y|}$$\n",
    "\n",
    "so lets say you have the folowing set of predicted and actual values.\n",
    "\n",
    "$$predicted:[0,0,0,0,0,1,1,1,1,1]$$\n",
    "$$actual: [1,1,0,0,0,1,1,1,1,1]$$\n",
    "the jaccard index will be :\n",
    "$$j(y,\\hat y) = \\frac{8}{10+10-8}=0.66$$\n",
    "\n",
    "The idea behind this index is that higher the similarity of these two groups the higher the index.\n",
    "\n",
    "### Applying this to the model above."
   ]
  },
  {
   "cell_type": "code",
   "execution_count": 117,
   "metadata": {},
   "outputs": [
    {
     "data": {
      "text/plain": [
       "0.94"
      ]
     },
     "execution_count": 117,
     "metadata": {},
     "output_type": "execute_result"
    }
   ],
   "source": [
    "from sklearn.metrics import jaccard_similarity_score\n",
    "j_index = jaccard_similarity_score(y_true=y_test,y_pred=preds)\n",
    "round(j_index,2)"
   ]
  },
  {
   "attachments": {
    "image.png": {
     "image/png": "[encoded data removed]"
    }
   },
   "cell_type": "markdown",
   "metadata": {},
   "source": [
    "## Confussion matrix\n",
    "Confusion matrix is used to describe the performance of a classification model on a set of test data for which true values are known.\n",
    "![conf.png](attachment:image.png)\n",
    "\n",
    "From the confusion matrix the following information can be extracted :\n",
    "\n",
    "1. **True positive(TP).**: This shows that a model **correctly**predicted **Positive** cases as **Positive**.\n",
    "eg an illness is diagnosed as present and truly is present.\n",
    "\n",
    "1. **False positive(FP):** This shows that a model **incorrectly**predicted **Negative** cases as **Positive**.eg an illness is diagnosed as present and but is absent.(Type I error)\n",
    "\n",
    "1. **False Negative:(FN)** This shows that a **incorrectly** model predicted **Positive** cases as **Negative**.eg an illness is diagnosed as absent and but is present.(Type II error)\n",
    "\n",
    "1. **True Negative(TN)**This shows that a model **correctly**predicted **Negative** cases as **Positive**.\n",
    "eg an illness is diagnosed as absent and truly is absent.\n",
    "\n",
    "### Applying this to the model above"
   ]
  },
  {
   "cell_type": "code",
   "execution_count": 118,
   "metadata": {},
   "outputs": [
    {
     "name": "stdout",
     "output_type": "stream",
     "text": [
      "[[98  6]\n",
      " [ 5 62]]\n"
     ]
    }
   ],
   "source": [
    "from sklearn.metrics import confusion_matrix\n",
    "print(confusion_matrix(y_test,preds,labels=[1,0]))"
   ]
  },
  {
   "cell_type": "code",
   "execution_count": 119,
   "metadata": {},
   "outputs": [
    {
     "data": {
      "image/png": "[encoded data removed]",
      "text/plain": [
       "<Figure size 432x288 with 1 Axes>"
      ]
     },
     "metadata": {
      "needs_background": "light"
     },
     "output_type": "display_data"
    }
   ],
   "source": [
    "import seaborn as sns\n",
    "import matplotlib.pyplot as plt\n",
    "sns.heatmap(confusion_matrix(y_test,preds),annot=True,lw =2,cbar=False)\n",
    "plt.ylabel(\"True Values\")\n",
    "plt.xlabel(\"Predicted Values\")\n",
    "plt.title(\"CONFUSSION MATRIX VISUALIZATION\")\n",
    "plt.show()"
   ]
  },
  {
   "cell_type": "markdown",
   "metadata": {},
   "source": [
    "In this case for the breast cancer data,the model corectly predicts 61 cases as benign and 100 cases as maligant.\n",
    "In contrast it mispredicts a total of 9 cases."
   ]
  },
  {
   "cell_type": "markdown",
   "metadata": {},
   "source": [
    "## F1-Score.\n",
    "\n",
    "This comes from the cinfusion matrix.Based on the above confussion matrix above,we can calculate the **precision** and the **recal socres.**\n",
    "\n",
    "**Precision score:** this is the measure of the accuracy ,provided that a class label has been predicted.Simply put,it answers the following question,**of all the classes ,how many were correctly predicted?** The answer to this question should be as high as posible.\n",
    "\n",
    "It can be calculated as follows:\n",
    "$$Precision = \\frac{TP}{TP+FP}$$\n",
    "\n",
    "**Recal score(Sensitivity)**:\n",
    "This is the true positive rate that is if it predicts positive then how often does this take place?\n",
    "\n",
    "$$TP=\\frac{TP}{TP+FN}$$\n",
    "\n",
    "The F1 score is calculated based on the precision and recal of each class.\n",
    "It is the weighted average of the Precision and the recal scores.The F1 score reaches its perfect value at one and worst at 0.It is avery good way to show that a classifies has a good recal and precision values.\n",
    "\n",
    "We can calculate it using this formula:\n",
    "\n",
    "$$F1Score = 2(\\frac{Precision\\times Recal}{Precision +  Recal})$$\n",
    "\n",
    "### Applying to the model above."
   ]
  },
  {
   "cell_type": "code",
   "execution_count": 120,
   "metadata": {},
   "outputs": [
    {
     "data": {
      "text/plain": [
       "0.9468599033816425"
      ]
     },
     "execution_count": 120,
     "metadata": {},
     "output_type": "execute_result"
    }
   ],
   "source": [
    "from sklearn.metrics import f1_score\n",
    "f1_score(y_test,preds)"
   ]
  },
  {
   "cell_type": "markdown",
   "metadata": {},
   "source": [
    "F1 score can be calculated for all classes so that an average of the realized scores can be used as shown in the classification report bellow."
   ]
  },
  {
   "cell_type": "code",
   "execution_count": 121,
   "metadata": {},
   "outputs": [
    {
     "name": "stdout",
     "output_type": "stream",
     "text": [
      "              precision    recall  f1-score   support\n",
      "\n",
      "           0       0.91      0.93      0.92        67\n",
      "           1       0.95      0.94      0.95       104\n",
      "\n",
      "   micro avg       0.94      0.94      0.94       171\n",
      "   macro avg       0.93      0.93      0.93       171\n",
      "weighted avg       0.94      0.94      0.94       171\n",
      "\n"
     ]
    }
   ],
   "source": [
    "from sklearn.metrics import classification_report\n",
    "print(classification_report(y_test,preds))"
   ]
  },
  {
   "cell_type": "markdown",
   "metadata": {},
   "source": [
    "## Log loss.\n",
    "We can use the log loss in cases where the outcome of the classifier is a class probability and not a class label like in cases of logistic regression models.\n",
    "\n",
    "Log loss measures the performance of a model where the predicted outcome is a probability value between 0 and 1.\n",
    "\n",
    "In real life when predicting a probability of 0.101 when the true label should be 1 would result in a high log loss.\n",
    "Log loss can be calculated for each row in the data set using the **Log loss equation**. \n",
    "\n",
    "$$L= (y\\times \\log(\\hat y)+(1-y)+\\log(1-\\hat y))$$\n",
    "\n",
    "The equation simply measures how far each predicted probability is from the actual label.An average of the log loss from all the rows gives the ideal value for the log loss.\n",
    "\n",
    "$$Lloss= -\\frac{1}{n}\\sum(y\\times \\log(\\hat y)+(1-y)+\\log(1-\\hat y))$$\n",
    "\n",
    "A good and model should have a smaller log loss value.\n",
    "\n",
    "### Applying in the above model."
   ]
  },
  {
   "cell_type": "code",
   "execution_count": 122,
   "metadata": {},
   "outputs": [
    {
     "data": {
      "text/plain": [
       "0.13710589473837184"
      ]
     },
     "execution_count": 122,
     "metadata": {},
     "output_type": "execute_result"
    }
   ],
   "source": [
    "from sklearn.metrics import log_loss\n",
    "log_loss(y_test,predsprob)"
   ]
  },
  {
   "cell_type": "markdown",
   "metadata": {},
   "source": [
    "And there we have a 0.18 log loss!"
   ]
  },
  {
   "cell_type": "code",
   "execution_count": null,
   "metadata": {},
   "outputs": [],
   "source": []
  },
  {
   "cell_type": "code",
   "execution_count": null,
   "metadata": {},
   "outputs": [],
   "source": []
  }
 ],
 "metadata": {
  "kernelspec": {
   "display_name": "Python 3",
   "language": "python",
   "name": "python3"
  },
  "language_info": {
   "codemirror_mode": {
    "name": "ipython",
    "version": 3
   },
   "file_extension": ".py",
   "mimetype": "text/x-python",
   "name": "python",
   "nbconvert_exporter": "python",
   "pygments_lexer": "ipython3",
   "version": "3.6.7"
  }
 },
 "nbformat": 4,
 "nbformat_minor": 2
}
